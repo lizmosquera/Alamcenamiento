{
  "nbformat": 4,
  "nbformat_minor": 0,
  "metadata": {
    "colab": {
      "name": "Untitled1.ipynb",
      "provenance": [],
      "include_colab_link": true
    },
    "kernelspec": {
      "name": "python3",
      "display_name": "Python 3"
    }
  },
  "cells": [
    {
      "cell_type": "markdown",
      "metadata": {
        "id": "view-in-github",
        "colab_type": "text"
      },
      "source": [
        "<a href=\"https://colab.research.google.com/github/lizmosquera/Alamcenamiento/blob/master/autoencoder.ipynb\" target=\"_parent\"><img src=\"https://colab.research.google.com/assets/colab-badge.svg\" alt=\"Open In Colab\"/></a>"
      ]
    },
    {
      "cell_type": "code",
      "metadata": {
        "id": "Aeare1y_ln-K",
        "colab_type": "code",
        "colab": {
          "base_uri": "https://localhost:8080/",
          "height": 63
        },
        "outputId": "d709c5b5-6ef9-4a4c-ad04-e74cab98b1d8"
      },
      "source": [
        "import tensorflow as tf\n",
        "import numpy as np\n",
        "#https://github.com/BinRoot/TensorFlow-Book/blob/master/ch07_autoencoder/export_parameters.py"
      ],
      "execution_count": 1,
      "outputs": [
        {
          "output_type": "display_data",
          "data": {
            "text/html": [
              "<p style=\"color: red;\">\n",
              "The default version of TensorFlow in Colab will soon switch to TensorFlow 2.x.<br>\n",
              "We recommend you <a href=\"https://www.tensorflow.org/guide/migrate\" target=\"_blank\">upgrade</a> now \n",
              "or ensure your notebook will continue to use TensorFlow 1.x via the <code>%tensorflow_version 1.x</code> magic:\n",
              "<a href=\"https://colab.research.google.com/notebooks/tensorflow_version.ipynb\" target=\"_blank\">more info</a>.</p>\n"
            ],
            "text/plain": [
              "<IPython.core.display.HTML object>"
            ]
          },
          "metadata": {
            "tags": []
          }
        }
      ]
    },
    {
      "cell_type": "code",
      "metadata": {
        "id": "zqlWdKPtmDfz",
        "colab_type": "code",
        "colab": {}
      },
      "source": [
        "def get_batch(X, size):\n",
        "    a = np.random.choice(len(X), size, replace=False)\n",
        "    return X[a]"
      ],
      "execution_count": 0,
      "outputs": []
    },
    {
      "cell_type": "code",
      "metadata": {
        "id": "d8PboMRJmD6J",
        "colab_type": "code",
        "colab": {}
      },
      "source": [
        "class Autoencoder:\n",
        "    def __init__(self, input_dim, hidden_dim, epoch=500, batch_size=10, learning_rate=0.001):\n",
        "        self.epoch = epoch\n",
        "        self.batch_size = batch_size\n",
        "        self.learning_rate = learning_rate\n",
        "\n",
        "        # Define input placeholder\n",
        "        x = tf.placeholder(dtype=tf.float32, shape=[None, input_dim])\n",
        "        \n",
        "        # Define variables\n",
        "        with tf.name_scope('encode'):\n",
        "            weights = tf.Variable(tf.random_normal([input_dim, hidden_dim], dtype=tf.float32), name='weights')\n",
        "            biases = tf.Variable(tf.zeros([hidden_dim]), name='biases')\n",
        "            encoded = tf.nn.sigmoid(tf.matmul(x, weights) + biases)\n",
        "        with tf.name_scope('decode'):\n",
        "            weights = tf.Variable(tf.random_normal([hidden_dim, input_dim], dtype=tf.float32), name='weights')\n",
        "            biases = tf.Variable(tf.zeros([input_dim]), name='biases')\n",
        "            decoded = tf.matmul(encoded, weights) + biases\n",
        "\n",
        "        self.x = x\n",
        "        self.encoded = encoded\n",
        "        self.decoded = decoded\n",
        "\n",
        "        # Define cost function and training op\n",
        "        self.loss = tf.sqrt(tf.reduce_mean(tf.square(tf.subtract(self.x, self.decoded))))\n",
        "\n",
        "        self.all_loss = tf.sqrt(tf.reduce_mean(tf.square(tf.subtract(self.x, self.decoded)), 1))\n",
        "        self.train_op = tf.train.AdamOptimizer(self.learning_rate).minimize(self.loss)\n",
        "        \n",
        "        # Define a saver op\n",
        "        self.saver = tf.train.Saver()\n",
        "\n",
        "    def train(self, data):\n",
        "        with tf.Session() as sess:\n",
        "            sess.run(tf.global_variables_initializer())\n",
        "            for i in range(self.epoch):\n",
        "                for j in range(500):\n",
        "                    batch_data = get_batch(data, self.batch_size)\n",
        "                    l, _ = sess.run([self.loss, self.train_op], feed_dict={self.x: batch_data})\n",
        "                if i % 50 == 0:\n",
        "                    print('epoch {0}: loss = {1}'.format(i, l))\n",
        "                    self.saver.save(sess, './model.ckpt')\n",
        "            self.saver.save(sess, './model.ckpt')\n",
        "        \n",
        "    def test(self, data):\n",
        "        with tf.Session() as sess:\n",
        "            self.saver.restore(sess, './model.ckpt')\n",
        "            hidden, reconstructed = sess.run([self.encoded, self.decoded], feed_dict={self.x: data})\n",
        "        print('input', data)\n",
        "        print('compressed', hidden)\n",
        "        print('reconstructed', reconstructed)\n",
        "        return reconstructed\n",
        "\n",
        "    def get_params(self):\n",
        "        with tf.Session() as sess:\n",
        "            self.saver.restore(sess, './model.ckpt')\n",
        "            weights, biases = sess.run([self.weights1, self.biases1])\n",
        "        return weights, biases\n",
        "\n",
        "    def classify(self, data, labels):\n",
        "        with tf.Session() as sess:\n",
        "            sess.run(tf.global_variables_initializer())\n",
        "            self.saver.restore(sess, './model.ckpt')\n",
        "            hidden, reconstructed = sess.run([self.encoded, self.decoded], feed_dict={self.x: data})\n",
        "            reconstructed = reconstructed[0]\n",
        "            # loss = sess.run(self.all_loss, feed_dict={self.x: data})\n",
        "            print('data', np.shape(data))\n",
        "            print('reconstructed', np.shape(reconstructed))\n",
        "            loss = np.sqrt(np.mean(np.square(data - reconstructed), axis=1))\n",
        "            print('loss', np.shape(loss))\n",
        "            horse_indices = np.where(labels == 7)[0]\n",
        "            not_horse_indices = np.where(labels != 7)[0]\n",
        "            horse_loss = np.mean(loss[horse_indices])\n",
        "            not_horse_loss = np.mean(loss[not_horse_indices])\n",
        "            print('horse', horse_loss)\n",
        "            print('not horse', not_horse_loss)\n",
        "            return hidden[7,:]\n",
        "\n",
        "    def decode(self, encoding):\n",
        "        with tf.Session() as sess:\n",
        "            sess.run(tf.global_variables_initializer())\n",
        "            self.saver.restore(sess, './model.ckpt')\n",
        "            reconstructed = sess.run(self.decoded, feed_dict={self.encoded: encoding})\n",
        "        img = np.reshape(reconstructed, (32, 32))\n",
        "        return img"
      ],
      "execution_count": 0,
      "outputs": []
    },
    {
      "cell_type": "code",
      "metadata": {
        "id": "bb3OxG9cmELw",
        "colab_type": "code",
        "colab": {
          "base_uri": "https://localhost:8080/",
          "height": 272
        },
        "outputId": "1765e017-7fa7-411e-ea3b-89387b29d1a9"
      },
      "source": [
        "from sklearn import datasets\n",
        "\n",
        "hidden_dim = 1\n",
        "data = datasets.load_iris().data\n",
        "input_dim = len(data[0])\n",
        "ae = Autoencoder(input_dim, hidden_dim)\n",
        "ae.train(data)\n",
        "ae.test([[8, 4, 6, 2]])"
      ],
      "execution_count": 4,
      "outputs": [
        {
          "output_type": "stream",
          "text": [
            "epoch 0: loss = 2.9489285945892334\n",
            "epoch 50: loss = 0.2995094358921051\n",
            "epoch 100: loss = 0.2830590307712555\n",
            "epoch 150: loss = 0.28322848677635193\n",
            "epoch 200: loss = 0.26732173562049866\n",
            "epoch 250: loss = 0.3284353017807007\n",
            "epoch 300: loss = 0.30501019954681396\n",
            "epoch 350: loss = 0.27740800380706787\n",
            "epoch 400: loss = 0.27164822816848755\n",
            "epoch 450: loss = 0.2836657464504242\n",
            "INFO:tensorflow:Restoring parameters from ./model.ckpt\n",
            "input [[8, 4, 6, 2]]\n",
            "compressed [[0.725205]]\n",
            "reconstructed [[6.8998013 2.8167195 6.2384815 2.2453177]]\n"
          ],
          "name": "stdout"
        },
        {
          "output_type": "execute_result",
          "data": {
            "text/plain": [
              "array([[6.8998013, 2.8167195, 6.2384815, 2.2453177]], dtype=float32)"
            ]
          },
          "metadata": {
            "tags": []
          },
          "execution_count": 4
        }
      ]
    },
    {
      "cell_type": "code",
      "metadata": {
        "id": "V5b_PU25mEjL",
        "colab_type": "code",
        "colab": {}
      },
      "source": [
        ""
      ],
      "execution_count": 0,
      "outputs": []
    }
  ]
}